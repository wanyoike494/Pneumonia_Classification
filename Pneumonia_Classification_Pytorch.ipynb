{
  "nbformat": 4,
  "nbformat_minor": 0,
  "metadata": {
    "colab": {
      "provenance": [],
      "gpuType": "T4",
      "authorship_tag": "ABX9TyPWsih6yMJCTuqfmamUdnnl",
      "include_colab_link": true
    },
    "kernelspec": {
      "name": "python3",
      "display_name": "Python 3"
    },
    "language_info": {
      "name": "python"
    },
    "accelerator": "GPU"
  },
  "cells": [
    {
      "cell_type": "markdown",
      "metadata": {
        "id": "view-in-github",
        "colab_type": "text"
      },
      "source": [
        "<a href=\"https://colab.research.google.com/github/wanyoike494/Pneumonia_Classification/blob/main/Pneumonia_Classification_Pytorch.ipynb\" target=\"_parent\"><img src=\"https://colab.research.google.com/assets/colab-badge.svg\" alt=\"Open In Colab\"/></a>"
      ]
    },
    {
      "cell_type": "markdown",
      "source": [
        "This project aims to build an X-ray image classification model to predict whether an X-ray scan shows presence of pneumonia."
      ],
      "metadata": {
        "id": "kPPAJV_AwrnL"
      }
    },
    {
      "cell_type": "markdown",
      "source": [
        "Load necessary libraries\n"
      ],
      "metadata": {
        "id": "MxVmXUYFx862"
      }
    },
    {
      "cell_type": "code",
      "source": [
        "import re\n",
        "import os\n",
        "import random\n",
        "import numpy as np\n",
        "import pandas as pd\n",
        "import torch\n",
        "import matplotlib.pyplot as plt\n",
        "\n",
        "# Check if a GPU is available and use it, otherwise use the CPU\n",
        "device = torch.device(\"cuda\" if torch.cuda.is_available() else \"cpu\")\n",
        "print(\"Using device:\", device)\n",
        "\n",
        "# Set the number of replicas (devices) based on the availability of GPUs\n",
        "if device.type == \"cuda\":\n",
        "    num_replicas = torch.cuda.device_count()\n",
        "else:\n",
        "    num_replicas = 1\n",
        "print(\"Number of replicas:\", num_replicas)\n",
        "\n",
        "\n"
      ],
      "metadata": {
        "id": "108ytwLpw2Bh",
        "colab": {
          "base_uri": "https://localhost:8080/"
        },
        "outputId": "310bc423-4ea4-4926-d647-e3a048fc6620"
      },
      "execution_count": 1,
      "outputs": [
        {
          "output_type": "stream",
          "name": "stdout",
          "text": [
            "Using device: cuda\n",
            "Number of replicas: 1\n"
          ]
        }
      ]
    },
    {
      "cell_type": "code",
      "source": [],
      "metadata": {
        "id": "r2wKLXuSyvqU"
      },
      "execution_count": null,
      "outputs": []
    }
  ]
}