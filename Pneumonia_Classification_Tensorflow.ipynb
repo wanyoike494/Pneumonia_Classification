{
  "nbformat": 4,
  "nbformat_minor": 0,
  "metadata": {
    "colab": {
      "provenance": [],
      "gpuType": "V28",
      "include_colab_link": true
    },
    "kernelspec": {
      "name": "python3",
      "display_name": "Python 3"
    },
    "language_info": {
      "name": "python"
    },
    "accelerator": "TPU"
  },
  "cells": [
    {
      "cell_type": "markdown",
      "metadata": {
        "id": "view-in-github",
        "colab_type": "text"
      },
      "source": [
        "<a href=\"https://colab.research.google.com/github/wanyoike494/Pneumonia_Classification/blob/main/Pneumonia_Classification_Tensorflow.ipynb\" target=\"_parent\"><img src=\"https://colab.research.google.com/assets/colab-badge.svg\" alt=\"Open In Colab\"/></a>"
      ]
    },
    {
      "cell_type": "markdown",
      "source": [
        "This project aims to build an X-ray image classification model to predict whether an X-ray scan shows presence of pneumonia using Tensorflow"
      ],
      "metadata": {
        "id": "kPPAJV_AwrnL"
      }
    },
    {
      "cell_type": "markdown",
      "source": [
        "Load necessary libraries\n"
      ],
      "metadata": {
        "id": "MxVmXUYFx862"
      }
    },
    {
      "cell_type": "code",
      "source": [
        "import re\n",
        "import os\n",
        "import random\n",
        "import numpy as np\n",
        "import pandas as pd\n",
        "import tensorflow as tf\n",
        "import matplotlib.pyplot as plt\n",
        "\n",
        "try:\n",
        "    tpu = tf.distribute.cluster_resolver.TPUClusterResolver.connect()\n",
        "    print(\"Device:\", tpu.master())\n",
        "    strategy = tf.distribute.TPUStrategy(tpu)\n",
        "except:\n",
        "    strategy = tf.distribute.get_strategy()\n",
        "print(\"Number of replicas:\", strategy.num_replicas_in_sync)"
      ],
      "metadata": {
        "id": "108ytwLpw2Bh",
        "colab": {
          "base_uri": "https://localhost:8080/"
        },
        "outputId": "c412ffd4-91e9-4a85-f9ab-8a8aba1abbcb"
      },
      "execution_count": 1,
      "outputs": [
        {
          "output_type": "stream",
          "name": "stdout",
          "text": [
            "Number of replicas: 1\n"
          ]
        }
      ]
    },
    {
      "cell_type": "code",
      "source": [
        "AUTOTUNE = tf.data.AUTOTUNE\n",
        "BATCH_SIZE = 25 * strategy.num_replicas_in_sync\n",
        "IMAGE_SIZE = [180, 180]\n",
        "CLASS_NAMES = [\"NORMAL\", \"PNEUMONIA\"]"
      ],
      "metadata": {
        "id": "r2wKLXuSyvqU"
      },
      "execution_count": 5,
      "outputs": []
    },
    {
      "cell_type": "markdown",
      "source": [
        "Load the data"
      ],
      "metadata": {
        "id": "NK2UFj6e3YIJ"
      }
    },
    {
      "cell_type": "code",
      "source": [
        "train_images = tf.data.TFRecordDataset(\n",
        "    \"gs://download.tensorflow.org/data/ChestXRay2017/train/images.tfrec\"\n",
        ")\n",
        "train_paths = tf.data.TFRecordDataset(\n",
        "    \"gs://download.tensorflow.org/data/ChestXRay2017/train/paths.tfrec\"\n",
        ")\n",
        "\n",
        "ds = tf.data.Dataset.zip((train_images, train_paths))\n"
      ],
      "metadata": {
        "id": "GA5ybjIo4Cne"
      },
      "execution_count": 3,
      "outputs": []
    },
    {
      "cell_type": "markdown",
      "source": [
        "Number of healthy/normal chest X-rays and those with pneumonia"
      ],
      "metadata": {
        "id": "6hwVo26i4QnF"
      }
    },
    {
      "cell_type": "code",
      "source": [
        "COUNT_NORMAL = len(\n",
        "    [\n",
        "        filename\n",
        "        for filename in train_paths\n",
        "        if \"NORMAL\" in filename.numpy().decode(\"utf-8\")\n",
        "    ]\n",
        ")\n",
        "print(\"Normal images count in training set: \" + str(COUNT_NORMAL))\n",
        "\n",
        "COUNT_PNEUMONIA = len(\n",
        "    [\n",
        "        filename\n",
        "        for filename in train_paths\n",
        "        if \"PNEUMONIA\" in filename.numpy().decode(\"utf-8\")\n",
        "    ]\n",
        ")\n",
        "print(\"Pneumonia images count in training set: \" + str(COUNT_PNEUMONIA))\n"
      ],
      "metadata": {
        "id": "SXrl2gCZ4TuU",
        "outputId": "0d08bc03-d2fe-4747-c816-bafd1d488b7b",
        "colab": {
          "base_uri": "https://localhost:8080/"
        }
      },
      "execution_count": 4,
      "outputs": [
        {
          "output_type": "stream",
          "name": "stdout",
          "text": [
            "Normal images count in training set: 1349\n",
            "Pneumonia images count in training set: 3883\n"
          ]
        }
      ]
    }
  ]
}